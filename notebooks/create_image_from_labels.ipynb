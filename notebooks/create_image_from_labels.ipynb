{
 "cells": [
  {
   "cell_type": "markdown",
   "metadata": {},
   "source": [
    "# Create images using label images and tables of desired values"
   ]
  },
  {
   "cell_type": "code",
   "execution_count": 1,
   "metadata": {
    "collapsed": false
   },
   "outputs": [],
   "source": [
    "import sys\n",
    "sys.path.insert(0, '../scripts')\n",
    "\n",
    "def create_table_file(fname, header, label_value_pairs):\n",
    "    '''\n",
    "    Write a new file which starts with header and then writes\n",
    "    in each line the label_value_pairs given as a list.\n",
    "    '''\n",
    "    with open(fname, 'w') as fil:\n",
    "        fil.write(header)\n",
    "        for pair in label_value_pairs:\n",
    "            fil.write('%s\\t%s\\n' % (pair[0], pair[1]))\n",
    "    return\n",
    "\n",
    "def create_image(img_file, label_value_pairs, label_img, modify_img=None):\n",
    "    '''\n",
    "    Creates image by putting values present in label_value_pairs in \n",
    "    the selected labels in corresponding ROIs present in label_img.\n",
    "    If modify_img is given update it instead of creating a new image\n",
    "    with zero in all regions where the asked label is not present.\n",
    "    '''\n",
    "    import bish_utils as bu\n",
    "    tbl_fl = 'tmp++table'\n",
    "    header = 'labels\\tnewValues\\n'\n",
    "    create_table_file(tbl_fl, header, label_value_pairs)\n",
    "    cmd = ('../build/src/createImageFromLabelImage -t %s -l %s -o %s'\n",
    "          % (tbl_fl, label_img, img_file))\n",
    "    if modify_img:\n",
    "        cmd += ' -m %s' % (modify_img)\n",
    "    bu.print_and_execute(cmd)\n",
    "    bu.print_and_execute('rm %s' % tbl_fl)\n",
    "    "
   ]
  },
  {
   "cell_type": "code",
   "execution_count": null,
   "metadata": {
    "collapsed": false
   },
   "outputs": [],
   "source": [
    "import os as os\n",
    "import os.path as op\n",
    "\n",
    "in_img_dir = '/proj/asclepios/cluster/asclepios2/bkhanal/works/AdLemModel/results/patients/miriad_189_AD_M_10_MR_1'\n",
    "#in_img_dir = '../results/patients/miriad_189_AD_M_10_MR_1'\n",
    "\n",
    "csf_model_label = op.join(in_img_dir, 'maskwithCsfD2R0.nii.gz')\n",
    "#aseg_label = op.join(in_img_dir, 'aseg_cropped.nii.gz')\n",
    "aseg_label = op.join(in_img_dir, 'labelsWithCsfD2R0.nii.gz')\n",
    "\n",
    "out_img_dir = in_img_dir\n",
    "out_img = op.join(out_img_dir, 'muImageWmBstem10_GmCsf1.nii.gz')\n",
    "\n",
    "# make all tissue and CSF 1 first\n",
    "lab_val = [(1, 1), (2, 1)]\n",
    "create_image(out_img, lab_val, csf_model_label)\n",
    "\n",
    "# change labels of Brain stem and WM\n",
    "h_val = 10\n",
    "lab_val = [(16, h_val), (28, h_val), (60, h_val), (41, h_val), (2, h_val), (46, h_val), (7, h_val)]\n",
    "create_image(out_img, lab_val, aseg_label, out_img)\n"
   ]
  },
  {
   "cell_type": "code",
   "execution_count": 5,
   "metadata": {
    "collapsed": false
   },
   "outputs": [
    {
     "name": "stdout",
     "output_type": "stream",
     "text": [
      "../build/src/createImageFromLabelImage -t tmp++table -l ../build/segGM_WM_CSF_FalxMedInria.nii.gz -o ../results/patients/smallBrainTests/segGM_CSF_Falx.nii.gz -m ../results/patients/smallBrainTests/segGM_CSF.nii.gz\n",
      "\n",
      "rm tmp++table\n",
      "\n"
     ]
    }
   ],
   "source": [
    "import os\n",
    "import os.path as op\n",
    "import bish_utils as bu\n",
    "\n",
    "in_img_dir = '../results/patients/smallBrainTests/'\n",
    "add_label_img = '../build/segGM_WM_CSF_FalxMedInria.nii.gz'\n",
    "old_label_img = op.join(in_img_dir, 'segGM_CSF.nii.gz')\n",
    "\n",
    "out_img_dir = in_img_dir\n",
    "new_label_img = op.join(out_img_dir, 'segGM_CSF_Falx.nii.gz')\n",
    "lab_val = [(4, 4)]\n",
    "create_image(new_label_img, lab_val, add_label_img, old_label_img)"
   ]
  },
  {
   "cell_type": "code",
   "execution_count": null,
   "metadata": {
    "collapsed": false
   },
   "outputs": [],
   "source": [
    "import os\n",
    "import os.path as op\n",
    "import bish_utils as bu\n",
    "tab_dir = '/proj/asclepios/cluster/asclepios2/mhadjham/Emotivity/Emotivity_All_N4/Simu_atrophy/'\n",
    "#out_dir = '/proj/asclepios/cluster/asclepios2/bkhanal/works/AdLemModel/results/patients/Patient_000068674859'\n",
    "out_dir = '/proj/asclepios/cluster/asclepios2/bkhanal/works/AdLemModel/results/patients/Patient_000098205180'\n",
    "\n",
    "run_script = '/user/bkhanal/home/works/AdLemModel/scripts/create_atrophy_map.py'\n",
    "seg = op.join(out_dir, 'labelsWithCsfForAtrophyD2R0_FS.nii.gz')\n",
    "for i in [2, 3]:\n",
    "    for j in range(5):\n",
    "        suffx = 'R%s_%s' % (i, j)\n",
    "        tab_file = op.join(tab_dir, suffx+'.txt')\n",
    "        atrophy_file = op.join(out_dir, 'atrophyMap'+suffx+'.nii.gz')\n",
    "        cmd = ('python %s %s -seg_for_atrophy %s -atrophy_tables %s'\n",
    "               % (run_script, atrophy_file, seg, tab_file))\n",
    "        bu.print_and_execute(cmd)\n"
   ]
  }
 ],
 "metadata": {
  "kernelspec": {
   "display_name": "Python 2",
   "language": "python",
   "name": "python2"
  },
  "language_info": {
   "codemirror_mode": {
    "name": "ipython",
    "version": 2
   },
   "file_extension": ".py",
   "mimetype": "text/x-python",
   "name": "python",
   "nbconvert_exporter": "python",
   "pygments_lexer": "ipython2",
   "version": "2.7.10"
  }
 },
 "nbformat": 4,
 "nbformat_minor": 0
}
