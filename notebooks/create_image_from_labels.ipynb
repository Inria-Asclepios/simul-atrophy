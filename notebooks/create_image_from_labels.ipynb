{
 "cells": [
  {
   "cell_type": "markdown",
   "metadata": {},
   "source": [
    "# Create images using label images and tables of desired values"
   ]
  },
  {
   "cell_type": "code",
   "execution_count": null,
   "metadata": {
    "collapsed": false
   },
   "outputs": [],
   "source": [
    "import sys\n",
    "sys.path.insert(0, '../scripts')\n",
    "import os as os\n",
    "import os.path as op\n",
    "import bish_utils as bu\n",
    "def create_table_file(fname, header, label_value_pairs):\n",
    "    '''\n",
    "    Write a new file which starts with header and then writes\n",
    "    in each line the label_value_pairs given as a list.\n",
    "    '''\n",
    "    with open(fname, 'w') as fil:\n",
    "        fil.write(header)\n",
    "        for pair in label_value_pairs:\n",
    "            fil.write('%s\\t%s\\n' % (pair[0], pair[1]))\n",
    "    return\n",
    "\n",
    "def create_image(img_file, label_value_pairs, label_img, modify_img=None):\n",
    "    '''\n",
    "    Creates image by putting values present in label_value_pairs in \n",
    "    the selected labels in corresponding ROIs present in label_img.\n",
    "    If modify_img is given update it instead of creating a new image\n",
    "    with zero in all regions where the asked label is not present.\n",
    "    '''\n",
    "    import bish_utils as bu\n",
    "    tbl_fl = 'tmp++table'\n",
    "    header = 'labels\\tnewValues\\n'\n",
    "    create_table_file(tbl_fl, header, label_value_pairs)\n",
    "    cmd = ('../build/src/createImageFromLabelImage -t %s -l %s -o %s'\n",
    "          % (tbl_fl, label_img, img_file))\n",
    "    if modify_img:\n",
    "        cmd += ' -m %s' % (modify_img)\n",
    "    bu.print_and_execute(cmd)\n",
    "    bu.print_and_execute('rm %s' % tbl_fl)\n",
    "    "
   ]
  },
  {
   "cell_type": "code",
   "execution_count": null,
   "metadata": {
    "collapsed": false
   },
   "outputs": [],
   "source": [
    "\n",
    "\n",
    "in_img_dir = '/proj/asclepios/cluster/asclepios2/bkhanal/works/AdLemModel/results/patients/miriad_189_AD_M_10_MR_1'\n",
    "#in_img_dir = '../results/patients/miriad_189_AD_M_10_MR_1'\n",
    "\n",
    "csf_model_label = op.join(in_img_dir, 'maskwithCsfD2R0.nii.gz')\n",
    "#aseg_label = op.join(in_img_dir, 'aseg_cropped.nii.gz')\n",
    "aseg_label = op.join(in_img_dir, 'labelsWithCsfD2R0.nii.gz')\n",
    "\n",
    "out_img_dir = in_img_dir\n",
    "out_img = op.join(out_img_dir, 'muImageWmBstem10_GmCsf1.nii.gz')\n",
    "\n",
    "# make all tissue and CSF 1 first\n",
    "lab_val = [(1, 1), (2, 1)]\n",
    "create_image(out_img, lab_val, csf_model_label)\n",
    "\n",
    "# change labels of Brain stem and WM\n",
    "h_val = 10\n",
    "lab_val = [(16, h_val), (28, h_val), (60, h_val), (41, h_val), (2, h_val), (46, h_val), (7, h_val)]\n",
    "create_image(out_img, lab_val, aseg_label, out_img)\n"
   ]
  },
  {
   "cell_type": "code",
   "execution_count": null,
   "metadata": {
    "collapsed": false
   },
   "outputs": [],
   "source": [
    "import os\n",
    "import os.path as op\n",
    "import bish_utils as bu\n",
    "\n",
    "in_img_dir = '../results/patients/smallBrainTests/'\n",
    "add_label_img = '../build/segGM_WM_CSF_FalxMedInria.nii.gz'\n",
    "old_label_img = op.join(in_img_dir, 'segGM_CSF.nii.gz')\n",
    "\n",
    "out_img_dir = in_img_dir\n",
    "new_label_img = op.join(out_img_dir, 'segGM_CSF_Falx.nii.gz')\n",
    "lab_val = [(4, 4)]\n",
    "create_image(new_label_img, lab_val, add_label_img, old_label_img)"
   ]
  },
  {
   "cell_type": "code",
   "execution_count": null,
   "metadata": {
    "collapsed": false
   },
   "outputs": [],
   "source": [
    "import os\n",
    "import os.path as op\n",
    "import bish_utils as bu\n",
    "tab_dir = '/proj/asclepios/cluster/asclepios2/mhadjham/Emotivity/Emotivity_All_N4/Simu_atrophy/'\n",
    "out_dir = '/proj/asclepios/cluster/asclepios2/bkhanal/works/AdLemModel/results/patients/Patient_000068674859'\n",
    "#out_dir = '/proj/asclepios/cluster/asclepios2/bkhanal/works/AdLemModel/results/patients/Patient_000098205180'\n",
    "\n",
    "run_script = '/user/bkhanal/home/works/AdLemModel/scripts/create_atrophy_map.py'\n",
    "seg = op.join(out_dir, 'labelsWithCsfForAtrophyD2R0_FS.nii.gz')\n",
    "idx1, idx2 = [4], [3]\n",
    "#idx1, idx2 = [3], [5, 6]\n",
    "#idx1, idx2 = [4], [0, 1, 2, 3]\n",
    "for i in idx1:\n",
    "    for j in idx2:\n",
    "        suffx = 'R%s_%s' % (i, j)\n",
    "        tab_file = op.join(tab_dir, suffx+'.txt')\n",
    "        atrophy_file = op.join(out_dir, 'atrophyMap'+suffx+'.nii.gz')\n",
    "        cmd = ('python %s %s -seg_for_atrophy %s -atrophy_tables %s'\n",
    "               % (run_script, atrophy_file, seg, tab_file))\n",
    "        bu.print_and_execute(cmd)\n"
   ]
  },
  {
   "cell_type": "markdown",
   "metadata": {},
   "source": [
    "## Create atrophy maps using segmentation images"
   ]
  },
  {
   "cell_type": "code",
   "execution_count": null,
   "metadata": {
    "collapsed": false
   },
   "outputs": [],
   "source": [
    "out_dir = '/proj/asclepios/cluster/asclepios2/bkhanal/works/AdLemModel/results/patients/Subject_0048'\n",
    "seg = op.join(out_dir, 'labelsWithCsfForAtrophyD2R0_FS.nii.gz')\n",
    "\n",
    "# a = 'atrophyMap_hippAmyg90p_crtx30p_wm6p.nii.gz'\n",
    "# hipp_amyg, crtx, wm = -0.9, -0.3, -0.06 # -ve so that no need to invert the disp. field\n",
    "\n",
    "a = 'atrophyMap_hippAmyg90p_crtx90p_wm40p.nii.gz'\n",
    "hipp_amyg, crtx, wm = -0.9, -0.9, -0.4 # -ve so that no need to invert the disp. field\n",
    "\n",
    "\n",
    "# FS labels: (L, R) : Hipp->(17, 53); Amyg->(18, 54); Crtx->(3, 42); WM->(2, 41)\n",
    "a_val = [(17, hipp_amyg), (53, hipp_amyg), (18, hipp_amyg), (54, hipp_amyg),\n",
    "         (3, crtx), (42, crtx), (2, wm), (41, wm)]\n",
    "\n",
    "\n",
    "create_image(op.join(out_dir, a), a_val, seg)\n"
   ]
  },
  {
   "cell_type": "markdown",
   "metadata": {},
   "source": [
    "## Modify existing atrophy maps"
   ]
  },
  {
   "cell_type": "code",
   "execution_count": null,
   "metadata": {
    "collapsed": false
   },
   "outputs": [],
   "source": [
    "import image_math as img_mth\n",
    "\n",
    "a_map_opposite = '../results/patients/Subject_0048/Div_Mask_output_stationary_velocity_field_4_0048_2.0_0.15_3.0.nii.gz'\n",
    "a_map = '../results/patients/Subject_0048/Minus_Div_Mask_output_stationary_velocity_field_4_0048_2.0_0.15_3.0.nii.gz'\n",
    "#img_mth.mult_scalar_imgs([a_map_opposite], [a_map], -1)\n",
    "a_map_zeroed_allcsf = '../results/patients/Subject_0048/atrophyMap_lcc_zeroedAllCsf.nii.gz'\n",
    "a_map_zeroed_sulcalcsf = '../results/patients/Subject_0048/atrophyMap_lcc_zeroedOnlySulcalCsf.nii.gz'\n",
    "\n",
    "seg_all_csf = '../results/patients/Subject_0048/segForModelD2R0_FS_allCSF.nii.gz'\n",
    "seg_sulcal_csf = '../results/patients/Subject_0048/segForModelD2R0_FS_onlySulcalCSF.nii.gz'\n",
    "label_vals = [(1, 0), (0, 0)]\n",
    "\n",
    "#Use Script create_atrophy_map!! I need to crop the Jacobians, which is done\n",
    "# over there. There are many more options over there and is much easier to\n",
    "# use than do them again here. "
   ]
  }
 ],
 "metadata": {
  "kernelspec": {
   "display_name": "Python 2",
   "language": "python",
   "name": "python2"
  },
  "language_info": {
   "codemirror_mode": {
    "name": "ipython",
    "version": 2
   },
   "file_extension": ".py",
   "mimetype": "text/x-python",
   "name": "python",
   "nbconvert_exporter": "python",
   "pygments_lexer": "ipython2",
   "version": "2.7.10"
  }
 },
 "nbformat": 4,
 "nbformat_minor": 0
}
